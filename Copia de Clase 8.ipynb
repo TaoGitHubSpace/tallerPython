{
 "cells": [
  {
   "cell_type": "code",
   "execution_count": 1,
   "metadata": {},
   "outputs": [],
   "source": [
    "# Función big O\n",
    "\n",
    "# Los while cargan el RAM exponencialmente y los if carga 1 a 1\n",
    "\n",
    "# Coursera\n",
    "\n",
    "# Mayusculas para matrices\n",
    "\n",
    "# Las funciones se usan para cuando estoy repitiendo el código"
   ]
  },
  {
   "cell_type": "code",
   "execution_count": 5,
   "metadata": {},
   "outputs": [
    {
     "name": "stdout",
     "output_type": "stream",
     "text": [
      "42\n"
     ]
    }
   ],
   "source": [
    "max_=0\n",
    "for num in A:\n",
    "    if num>max_:\n",
    "        max_=num\n",
    "print(max_)"
   ]
  },
  {
   "cell_type": "code",
   "execution_count": 6,
   "metadata": {},
   "outputs": [
    {
     "name": "stdout",
     "output_type": "stream",
     "text": [
      "-10\n"
     ]
    }
   ],
   "source": [
    "min_=max_\n",
    "for num in A:\n",
    "    if num<min_:\n",
    "        min_=num\n",
    "print(min_)"
   ]
  },
  {
   "cell_type": "code",
   "execution_count": 5,
   "metadata": {},
   "outputs": [
    {
     "data": {
      "text/plain": [
       "12"
      ]
     },
     "execution_count": 5,
     "metadata": {},
     "output_type": "execute_result"
    }
   ],
   "source": [
    "len(A)"
   ]
  },
  {
   "cell_type": "code",
   "execution_count": 1,
   "metadata": {},
   "outputs": [
    {
     "name": "stdout",
     "output_type": "stream",
     "text": [
      "[0, 1, 2, 3, 4, 5, 6, 7, 8, 9, 10, 11]\n",
      "42\n",
      "-10\n"
     ]
    }
   ],
   "source": [
    "# Taller organizar\n",
    "# Ordenar de menor a mayor (Ok)\n",
    "# Ordenar de mayor a menor (Ok)\n",
    "# Borrar posiciones impares \n",
    "# Borrar posiciones pares\n",
    "# Borrar números inpares\n",
    "# Borrar números pares\n",
    "A=[1,3,7,-1,-2,0,15,42,37,2,4,-10]\n",
    "O=[]\n",
    "Ev=[]\n",
    "for a in range(len(A)):\n",
    "    O.append(a)\n",
    "print(O)\n",
    "max_=0\n",
    "for num in A:\n",
    "    if num>max_:\n",
    "        max_=num\n",
    "print(max_)\n",
    "min_=max_\n",
    "for num in A:\n",
    "    if num<min_:\n",
    "        min_=num\n",
    "print(min_)"
   ]
  },
  {
   "cell_type": "code",
   "execution_count": 2,
   "metadata": {},
   "outputs": [
    {
     "name": "stdout",
     "output_type": "stream",
     "text": [
      "La lista original [1, 3, 7, -1, -2, 0, 15, 42, 37, 2, 4, -10]\n",
      "Lista de mayor a menor Ev [42, 37, 15, 7, 4, 3, 2, 1, 0, -1, -2, -10]\n",
      "Lista de menor a mayor OM [-10, -2, -1, 0, 1, 2, 3, 4, 7, 15, 37, 42]\n"
     ]
    }
   ],
   "source": [
    "A=[1,3,7,-1,-2,0,15,42,37,2,4,-10]\n",
    "OM=[]\n",
    "Ev=[]\n",
    "NumP=[]\n",
    "NumI=[]\n",
    "print(\"La lista original\",A)\n",
    "for a in range(len(A)):\n",
    "    OM.append(a)\n",
    "max_=0\n",
    "for num in A:\n",
    "    if num>max_:\n",
    "        max_=num\n",
    "min_=max_\n",
    "for num in A:\n",
    "    if num<min_:\n",
    "        min_=num\n",
    "while True:\n",
    "    if len(A)==0:\n",
    "        print(\"Lista de mayor a menor Ev\",Ev)\n",
    "        break\n",
    "    maxi=min_\n",
    "    for num in A:\n",
    "        if num>maxi:\n",
    "            maxi=num\n",
    "    OM[len(A)-1]=maxi\n",
    "    Ev.append(maxi)\n",
    "    NumP.append(maxi)\n",
    "    NumI.append(maxi)\n",
    "    A.remove(maxi)\n",
    "print(\"Lista de menor a mayor OM\",OM)"
   ]
  },
  {
   "cell_type": "code",
   "execution_count": 3,
   "metadata": {},
   "outputs": [
    {
     "name": "stdout",
     "output_type": "stream",
     "text": [
      "[-2, 0, 2, 4, 15, 42]\n"
     ]
    }
   ],
   "source": [
    "PosPar=[]\n",
    "for a in OM:\n",
    "    if OM.index(a)%2==0:\n",
    "        PosPar.append(a)\n",
    "for b in PosPar:\n",
    "    if b in OM:\n",
    "        OM.remove(b)\n",
    "print(OM)"
   ]
  },
  {
   "cell_type": "code",
   "execution_count": 4,
   "metadata": {},
   "outputs": [
    {
     "name": "stdout",
     "output_type": "stream",
     "text": [
      "[42, 15, 4, 2, 0, -2]\n"
     ]
    }
   ],
   "source": [
    "PosImp=[]\n",
    "for a in Ev:\n",
    "    if Ev.index(a)%2!=0:\n",
    "        PosImp.append(a)\n",
    "for b in PosImp:\n",
    "    if b in Ev:\n",
    "        Ev.remove(b)\n",
    "print(Ev)"
   ]
  },
  {
   "cell_type": "code",
   "execution_count": 5,
   "metadata": {},
   "outputs": [
    {
     "name": "stdout",
     "output_type": "stream",
     "text": [
      "Original: [42, 37, 15, 7, 4, 3, 2, 1, 0, -1, -2, -10]\n",
      "[37, 15, 7, 3, 1, -1]\n"
     ]
    }
   ],
   "source": [
    "NumPar=[]\n",
    "print(\"Original:\",NumP)\n",
    "for a in NumP:\n",
    "    if a%2==0:\n",
    "        NumPar.append(a)\n",
    "for b in NumPar:\n",
    "    if b in NumP:\n",
    "        NumP.remove(b)\n",
    "print(NumP)"
   ]
  },
  {
   "cell_type": "code",
   "execution_count": 6,
   "metadata": {},
   "outputs": [
    {
     "name": "stdout",
     "output_type": "stream",
     "text": [
      "Original: [42, 37, 15, 7, 4, 3, 2, 1, 0, -1, -2, -10]\n",
      "[42, 4, 2, 0, -2, -10]\n"
     ]
    }
   ],
   "source": [
    "NumImp=[]\n",
    "print(\"Original:\",NumI)\n",
    "for a in NumI:\n",
    "    if a%2!=0:\n",
    "        NumImp.append(a)\n",
    "for b in NumImp:\n",
    "    if b in NumI:\n",
    "        NumI.remove(b)\n",
    "print(NumI)"
   ]
  },
  {
   "cell_type": "code",
   "execution_count": 15,
   "metadata": {},
   "outputs": [
    {
     "name": "stdout",
     "output_type": "stream",
     "text": [
      "La lista original ['A', 'a', 'Z', 'z', 'h', 'c', 'g', 'i', 'G']\n",
      "Lista de mayor a menor ['z', 'i', 'h', 'g', 'c', 'a', 'Z', 'G', 'A']\n",
      "Lista de menor a mayor ['A', 'G', 'Z', 'a', 'c', 'g', 'h', 'i', 'z']\n"
     ]
    }
   ],
   "source": [
    "B=[\"A\",\"a\",\"Z\",\"z\",\"h\",\"c\",\"g\",\"i\",\"G\"]\n",
    "mM=[]\n",
    "Mm=[]\n",
    "print(\"La lista original\",B)\n",
    "for a in range(len(B)):\n",
    "    mM.append(a)\n",
    "max_=\"A\"\n",
    "for num in B:\n",
    "    if num>max_:\n",
    "        max_=num\n",
    "min_=max_\n",
    "for num in B:\n",
    "    if num<min_:\n",
    "        min_=num\n",
    "while True:\n",
    "    if len(B)==0:\n",
    "        print(\"Lista de mayor a menor\",Mm)\n",
    "        break\n",
    "    maxi=min_\n",
    "    for num in B:\n",
    "        if num>maxi:\n",
    "            maxi=num\n",
    "    mM[len(B)-1]=maxi\n",
    "    Mm.append(maxi)\n",
    "    B.remove(maxi)\n",
    "print(\"Lista de menor a mayor\",mM)"
   ]
  },
  {
   "cell_type": "code",
   "execution_count": 13,
   "metadata": {},
   "outputs": [
    {
     "name": "stdout",
     "output_type": "stream",
     "text": [
      "['G', 'a', 'g', 'i']\n"
     ]
    }
   ],
   "source": [
    "PosParL=[]\n",
    "for a in mM:\n",
    "    if mM.index(a)%2==0:\n",
    "        PosParL.append(a)\n",
    "for b in PosParL:\n",
    "    if b in mM:\n",
    "        mM.remove(b)\n",
    "print(mM)"
   ]
  },
  {
   "cell_type": "code",
   "execution_count": 11,
   "metadata": {},
   "outputs": [
    {
     "name": "stdout",
     "output_type": "stream",
     "text": [
      "['A', 'Z', 'c', 'h', 'z']\n"
     ]
    }
   ],
   "source": [
    "PosImpL=[]\n",
    "for a in mM:\n",
    "    if mM.index(a)%2!=0:\n",
    "        PosImpL.append(a)\n",
    "for b in PosImpL:\n",
    "    if b in mM:\n",
    "        mM.remove(b)\n",
    "print(mM)"
   ]
  },
  {
   "cell_type": "code",
   "execution_count": 16,
   "metadata": {},
   "outputs": [
    {
     "name": "stdout",
     "output_type": "stream",
     "text": [
      "['A', 'G', 'Z', 'a', 'c', 'g', 'h', 'i', 'z']\n"
     ]
    }
   ],
   "source": [
    "print(mM)\n"
   ]
  },
  {
   "cell_type": "code",
   "execution_count": 17,
   "metadata": {},
   "outputs": [
    {
     "name": "stdout",
     "output_type": "stream",
     "text": [
      "Cual letra quieres borrar\n",
      "a\n",
      "['A', 'G', 'Z', 'c', 'g', 'h', 'i', 'z']\n"
     ]
    }
   ],
   "source": [
    "print(\"Cual letra quieres borrar\")\n",
    "Bor=input()\n",
    "if Bor in mM:\n",
    "    mM.remove(Bor)\n",
    "print(mM)"
   ]
  },
  {
   "cell_type": "code",
   "execution_count": null,
   "metadata": {},
   "outputs": [],
   "source": []
  }
 ],
 "metadata": {
  "kernelspec": {
   "display_name": "Python 3",
   "language": "python",
   "name": "python3"
  },
  "language_info": {
   "codemirror_mode": {
    "name": "ipython",
    "version": 3
   },
   "file_extension": ".py",
   "mimetype": "text/x-python",
   "name": "python",
   "nbconvert_exporter": "python",
   "pygments_lexer": "ipython3",
   "version": "3.7.4"
  }
 },
 "nbformat": 4,
 "nbformat_minor": 2
}
